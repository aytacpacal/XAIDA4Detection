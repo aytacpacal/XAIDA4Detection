{
 "cells": [
  {
   "cell_type": "code",
   "execution_count": 1,
   "id": "5b7c6e10-38c4-4420-93bf-0f32e098c7fa",
   "metadata": {},
   "outputs": [],
   "source": [
    "from ctypes.util import find_library\n",
    "find_library('geos_c')"
   ]
  },
  {
   "cell_type": "code",
   "execution_count": null,
   "id": "11321058-d021-4e0c-a90c-364eea937d5f",
   "metadata": {},
   "outputs": [],
   "source": []
  }
 ],
 "metadata": {
  "kernelspec": {
   "display_name": "XAIDA",
   "language": "python",
   "name": "xaida"
  },
  "language_info": {
   "codemirror_mode": {
    "name": "ipython",
    "version": 3
   },
   "file_extension": ".py",
   "mimetype": "text/x-python",
   "name": "python",
   "nbconvert_exporter": "python",
   "pygments_lexer": "ipython3",
   "version": "3.8.16"
  }
 },
 "nbformat": 4,
 "nbformat_minor": 5
}
