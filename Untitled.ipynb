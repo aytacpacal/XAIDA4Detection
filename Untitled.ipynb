{
 "cells": [
  {
   "cell_type": "code",
   "execution_count": 1,
   "id": "f3904924-6dc9-41d0-9798-970e5349ea55",
   "metadata": {},
   "outputs": [
    {
     "name": "stderr",
     "output_type": "stream",
     "text": [
      "/work/bd1083/b309178/mambaforge/envs/XAIDA/lib/python3.8/site-packages/tqdm/auto.py:21: TqdmWarning: IProgress not found. Please update jupyter and ipywidgets. See https://ipywidgets.readthedocs.io/en/stable/user_install.html\n",
      "  from .autonotebook import tqdm as notebook_tqdm\n"
     ]
    }
   ],
   "source": [
    "import os\n",
    "from utils import setup_config, validate_config\n",
    "from backbones.pyodBackbone import PyodBackbone\n",
    "from backbones.pytorchBackbone import PytorchBackbone\n",
    "\n",
    "backbone_dictionary = {'OutlierDetection': 'Pyod',\n",
    "                        'Classification': 'Pytorch'}"
   ]
  },
  {
   "cell_type": "code",
   "execution_count": 2,
   "id": "4f6c99ed-997a-45ae-84fb-68111f56b567",
   "metadata": {},
   "outputs": [],
   "source": [
    "def main(config):\n",
    "\n",
    "    backbone = globals()[ backbone_dictionary[config['task']]+'Backbone'](config)\n",
    "    backbone.load_data()\n",
    "    backbone.implement_model()\n",
    "    backbone.train()\n",
    "    backbone.test()\n",
    "    backbone.inference()"
   ]
  },
  {
   "cell_type": "code",
   "execution_count": 3,
   "id": "01759707-ae86-420a-8fba-333b82802c66",
   "metadata": {},
   "outputs": [
    {
     "name": "stderr",
     "output_type": "stream",
     "text": [
      "usage: ipykernel_launcher.py [-h] [--config CONFIG] [--exp_id EXP_ID]\n",
      "ipykernel_launcher.py: error: unrecognized arguments: -f /home/b/b309178/.local/share/jupyter/runtime/kernel-c0e1e8da-eae0-4155-9c9a-b131cb8e4dee.json\n"
     ]
    },
    {
     "ename": "SystemExit",
     "evalue": "2",
     "output_type": "error",
     "traceback": [
      "An exception has occurred, use %tb to see the full traceback.\n",
      "\u001b[0;31mSystemExit\u001b[0m\u001b[0;31m:\u001b[0m 2\n"
     ]
    }
   ],
   "source": [
    "if __name__ == '__main__':\n",
    "    \n",
    "    # Setup config\n",
    "    config = setup_config() \n",
    "    "
   ]
  },
  {
   "cell_type": "code",
   "execution_count": null,
   "id": "83224c52-e9e4-4ec4-b7ff-93977709b575",
   "metadata": {},
   "outputs": [],
   "source": [
    "    # Validate config\n",
    "    validate_config(config) \n",
    "    \n",
    "    # Main \n",
    "    main(config)"
   ]
  }
 ],
 "metadata": {
  "kernelspec": {
   "display_name": "XAIDA",
   "language": "python",
   "name": "xaida"
  },
  "language_info": {
   "codemirror_mode": {
    "name": "ipython",
    "version": 3
   },
   "file_extension": ".py",
   "mimetype": "text/x-python",
   "name": "python",
   "nbconvert_exporter": "python",
   "pygments_lexer": "ipython3",
   "version": "3.8.16"
  }
 },
 "nbformat": 4,
 "nbformat_minor": 5
}
